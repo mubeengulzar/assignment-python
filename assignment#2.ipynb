{
 "cells": [
  {
   "cell_type": "code",
   "execution_count": 6,
   "metadata": {},
   "outputs": [
    {
     "name": "stdout",
     "output_type": "stream",
     "text": [
      "enter n:6\n",
      "6 is a even number\n"
     ]
    }
   ],
   "source": [
    "num =int(input(\"enter n:\"))\n",
    "if(num%2==0):\n",
    "    print(num,\"is a even number\")\n",
    "else:\n",
    "    print(num,\"is a odd number\")\n",
    "    "
   ]
  },
  {
   "cell_type": "code",
   "execution_count": 15,
   "metadata": {},
   "outputs": [
    {
     "name": "stdout",
     "output_type": "stream",
     "text": [
      "15\n"
     ]
    }
   ],
   "source": [
    "mylist = [1,2,3,4,5]\n",
    "\n",
    "total = sum(mylist)\n",
    "\n",
    "print(total)"
   ]
  },
  {
   "cell_type": "code",
   "execution_count": 18,
   "metadata": {},
   "outputs": [
    {
     "name": "stdout",
     "output_type": "stream",
     "text": [
      "['Ali', 'Ahmed', 'Salman', 5, 0.9, False, 8]\n"
     ]
    }
   ],
   "source": [
    "arr =[\"Ali\", \"Ahmed\",\"Salman\",5,0.9,False,8] \n",
    "print(arr)"
   ]
  },
  {
   "cell_type": "code",
   "execution_count": 20,
   "metadata": {},
   "outputs": [
    {
     "name": "stdout",
     "output_type": "stream",
     "text": [
      "How many numbers: 2\n",
      "Enter number 4\n",
      "Enter number 5\n",
      "Sum of elements in given list is : 9\n"
     ]
    }
   ],
   "source": [
    "lst = []\n",
    "num = int(input('How many numbers: '))\n",
    "for n in range(num):\n",
    "    numbers = int(input('Enter number '))\n",
    "    lst.append(numbers)\n",
    "print(\"Sum of elements in given list is :\", sum(lst))"
   ]
  },
  {
   "cell_type": "code",
   "execution_count": 21,
   "metadata": {},
   "outputs": [
    {
     "name": "stdout",
     "output_type": "stream",
     "text": [
      "1\n",
      "1\n",
      "2\n",
      "3\n"
     ]
    }
   ],
   "source": [
    "a = [1, 1, 2, 3, 5, 8, 13, 21, 34, 55, 89]\n",
    "for i in a:\n",
    "    if i < 5:\n",
    "        print(i)"
   ]
  },
  {
   "cell_type": "code",
   "execution_count": 23,
   "metadata": {},
   "outputs": [
    {
     "name": "stdout",
     "output_type": "stream",
     "text": [
      "The length of list is:  3\n"
     ]
    }
   ],
   "source": [
    "lst = len([10, 20, 30]) \n",
    "print(\"The length of list is: \", lst)"
   ]
  },
  {
   "cell_type": "code",
   "execution_count": 27,
   "metadata": {},
   "outputs": [
    {
     "name": "stdout",
     "output_type": "stream",
     "text": [
      "Enter marks obtained in 5 subjects: \n",
      "first project:\n",
      "79\n",
      "Second Subject: \n",
      "75\n",
      "third Subject: \n",
      "69\n",
      "Forth Subject: \n",
      "55\n",
      "fifth Subject: \n",
      "49\n",
      "Enter total marks: \n",
      "327\n",
      "A+\n"
     ]
    }
   ],
   "source": [
    "\n",
    "print(\"Enter marks obtained in 5 subjects: \")\n",
    "print(\"first project:\")\n",
    "sub1 = int(input())\n",
    "print(\"Second Subject: \")\n",
    "sub2 = int(input())\n",
    "print(\"third Subject: \")\n",
    "sub3 = int(input())\n",
    "print(\"Forth Subject: \")\n",
    "sub4 = int(input())\n",
    "print(\"fifth Subject: \")\n",
    "sub5 = int(input())\n",
    "sum = sub1 + sub2 + sub3 + sub4 + sub5\n",
    "\n",
    "print(\"Enter total marks: \")\n",
    "total = int(input())\n",
    "per=sum*100/total\n",
    "if(per>=80 and per<=100):\n",
    " print(\"A+\")\n",
    "elif(per>=70 and per<=79):\n",
    " print(\"A\")\n",
    "elif(per>=65 and per<=70):\n",
    " print(\"B\")\n",
    "elif(per>=50 and per<=59):\n",
    " print(\"C\")\n",
    "elif(per>=40 and per<=49):\n",
    " print(\"D\")\n",
    "elif(per>=0 and per<=39):\n",
    " print(\"F\")\n",
    "else:\n",
    "        pass"
   ]
  },
  {
   "cell_type": "code",
   "execution_count": null,
   "metadata": {},
   "outputs": [],
   "source": []
  }
 ],
 "metadata": {
  "kernelspec": {
   "display_name": "Python 3",
   "language": "python",
   "name": "python3"
  },
  "language_info": {
   "codemirror_mode": {
    "name": "ipython",
    "version": 3
   },
   "file_extension": ".py",
   "mimetype": "text/x-python",
   "name": "python",
   "nbconvert_exporter": "python",
   "pygments_lexer": "ipython3",
   "version": "3.7.4"
  }
 },
 "nbformat": 4,
 "nbformat_minor": 2
}
