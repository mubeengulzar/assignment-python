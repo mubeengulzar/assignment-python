{
 "cells": [
  {
   "cell_type": "code",
   "execution_count": 1,
   "metadata": {},
   "outputs": [],
   "source": [
    "#Question No.1"
   ]
  },
  {
   "cell_type": "markdown",
   "metadata": {},
   "source": [
    "## Object Oreinted Programming"
   ]
  },
  {
   "cell_type": "markdown",
   "metadata": {},
   "source": [
    "    Python is a multi-paradigm programming language. Meaning, it supports different programming approach. One of the popular approach to solve a programming problem is by creating objects. This is known as Object-Oriented Programming (OOP)"
   ]
  },
  {
   "cell_type": "code",
   "execution_count": 2,
   "metadata": {},
   "outputs": [],
   "source": [
    "#Question No.2"
   ]
  },
  {
   "cell_type": "markdown",
   "metadata": {},
   "source": [
    "Following are the list of Benefits of OOPs.\n",
    "1)\tIt provides a clear modular structure for programs.\n",
    "2)\tObjects can also be reused within an across applications.\n",
    "3)\tIt makes software easier to maintain.\n",
    "4)\tReuse also enables faster development.\n",
    "5)\tIt provides a good framework for code libraries where the supplied software components can be easily adapted and modified by the programmer. This is specifically use for developing graphical user interface.\n",
    "6)\tBetter Productivity as OOP techniques enforce rules on a programmer that, in the long run, help her get more work done; finished programs work better, have more features and are easier to read and maintain.\n",
    "7)\tDesign Benefits:  can make the work easier for the programmer for fixing the elements easily. And make it towards improvement. And eliminate the risks.\n",
    "8)\t It is good for defining abstract data types.\n",
    "9)\tIt implements real life scenario.\n",
    "10)\tIn OOP, programmer not only defines data types but also deals with operations applied for data structures."
   ]
  },
  {
   "cell_type": "code",
   "execution_count": 3,
   "metadata": {},
   "outputs": [],
   "source": [
    "#Question No.3"
   ]
  },
  {
   "cell_type": "markdown",
   "metadata": {},
   "source": [
    "# Function\n",
    "1. A function is a piece of code that is called by name.\n",
    "2. Function are basically used for code re-usability.\n",
    "3. Function are of two types.\n",
    "    - Pre-defined function\n",
    "    - User-defined function\n",
    "4. Function can be used inside the class as well as outside of the class.\n",
    "5. Function can be controlled by the recursion.\n",
    "\n",
    "# Method\n",
    "1. A method is a piece of code that is called by a name that is associated with an object.\n",
    "2. Method are similar like the Function and the main task of method is code re-usability as similar like the functions.\n",
    "3. Methods are always defined by the user.\n",
    "4. Method always used the OOP Language.\n",
    "5. Method are always defined inside the class."
   ]
  },
  {
   "cell_type": "code",
   "execution_count": 4,
   "metadata": {},
   "outputs": [],
   "source": [
    "#Question No.4"
   ]
  },
  {
   "cell_type": "markdown",
   "metadata": {},
   "source": [
    "o\tClass:\n",
    "                   A blueprint created by a programmer for an object. This defines a set of attributes that will characterize any object that is instantiated from this class.\n",
    "                   \n",
    "o\tObject:\n",
    "           An instance of a class. This is the realized version of the class, where the class is manifested in the program.\n",
    "           \n",
    "o\tAttribute:\n",
    "          A class attribute is a Python variable that belongs to a class rather than a particular object’s. The Features that any particular object contain is called Attributes.\n",
    "          \n",
    "o\tBehavior:\n",
    "               The behavior is either a Python variable that behave according to the particular object is called behavior. The Functionality that any particular object contain is called Behavior. \n"
   ]
  },
  {
   "cell_type": "code",
   "execution_count": 5,
   "metadata": {},
   "outputs": [],
   "source": [
    "#Question No.5"
   ]
  },
  {
   "cell_type": "code",
   "execution_count": 7,
   "metadata": {},
   "outputs": [],
   "source": [
    "class Car():\n",
    "    \n",
    "    def __init__(self, make, model, year, light, doors): \n",
    "        self.make = make         \n",
    "        self.model = model       \n",
    "        self.year = year         \n",
    "        self.light = year        \n",
    "        self.doors = doors       \n",
    "        self.battery = \"200Amp\" \n",
    "\n",
    "    def description(self):       \n",
    "        print(f\"The Make of the car is {self.make}\")\n",
    "        print(f\"The Model of the car is {self.model}\")\n",
    "        print(f\"The Year of the car is {self.year}\")\n",
    "    def move(self):              \n",
    "        print(f\" The {self.make} is moving with speed\")\n",
    "    def applyingbreak(self):             \n",
    "        print(f\" The {self.model} is getting slow\")\n",
    "    def speedUp(self):               \n",
    "        print(f\"The {self.make} is Accelerating Up\")\n",
    "    def speeddown(self):             \n",
    "        print(f\"The {self.model} is Speeding Down\")\n",
    "    def desbattery(self):\n",
    "        print(f\"The Battery of Car is {self.battery}\")\n",
    "    def getbatterySize(self):\n",
    "        print(f\"The Size Of Your Car's Battery is {self.battery}\")"
   ]
  },
  {
   "cell_type": "code",
   "execution_count": 8,
   "metadata": {},
   "outputs": [],
   "source": [
    "car1 = Car(\"Honda\", \"Civic\", 1976, \"White\", 4)"
   ]
  },
  {
   "cell_type": "code",
   "execution_count": 9,
   "metadata": {},
   "outputs": [],
   "source": [
    "car2 = Car(\"Suzuki\", \"Bolan\", 1970, \"Green\", 6)"
   ]
  },
  {
   "cell_type": "code",
   "execution_count": 10,
   "metadata": {},
   "outputs": [],
   "source": [
    "car3 = Car(\"Nissan\", \"Sunny\", 1975, \"Yellow\", 4)"
   ]
  },
  {
   "cell_type": "code",
   "execution_count": 11,
   "metadata": {},
   "outputs": [],
   "source": [
    "car4 = Car(\"Toyota\", \"Corola\", 1986, \"Blue\", 4)"
   ]
  },
  {
   "cell_type": "code",
   "execution_count": 12,
   "metadata": {},
   "outputs": [],
   "source": [
    "car5 = Car(\"Honda\", \"Dolphin\", 2000, \"Purple\", 2)"
   ]
  },
  {
   "cell_type": "code",
   "execution_count": 13,
   "metadata": {},
   "outputs": [
    {
     "data": {
      "text/plain": [
       "'200Amp'"
      ]
     },
     "execution_count": 13,
     "metadata": {},
     "output_type": "execute_result"
    }
   ],
   "source": [
    "car1.battery"
   ]
  },
  {
   "cell_type": "code",
   "execution_count": 14,
   "metadata": {},
   "outputs": [
    {
     "name": "stdout",
     "output_type": "stream",
     "text": [
      "The Make of the car is Honda\n",
      "The Model of the car is Civic\n",
      "The Year of the car is 1976\n"
     ]
    }
   ],
   "source": [
    "car1.description()"
   ]
  },
  {
   "cell_type": "code",
   "execution_count": null,
   "metadata": {},
   "outputs": [],
   "source": [
    "# Answer no.3 pointwise differentiate kya hai table nahi draw horaha tha\n",
    "#A"
   ]
  }
 ],
 "metadata": {
  "kernelspec": {
   "display_name": "Python 3",
   "language": "python",
   "name": "python3"
  },
  "language_info": {
   "codemirror_mode": {
    "name": "ipython",
    "version": 3
   },
   "file_extension": ".py",
   "mimetype": "text/x-python",
   "name": "python",
   "nbconvert_exporter": "python",
   "pygments_lexer": "ipython3",
   "version": "3.7.4"
  }
 },
 "nbformat": 4,
 "nbformat_minor": 2
}
