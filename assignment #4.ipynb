{
 "cells": [
  {
   "cell_type": "code",
   "execution_count": 1,
   "metadata": {},
   "outputs": [
    {
     "data": {
      "text/plain": [
       "('One of my favourite book is', 'Alice in Wonderland.')"
      ]
     },
     "execution_count": 1,
     "metadata": {},
     "output_type": "execute_result"
    }
   ],
   "source": [
    "#Question(4)\n",
    "def fav_book(title):\n",
    "    return \"One of my favourite book is\",title\n",
    "fav_book('Alice in Wonderland.')\n"
   ]
  },
  {
   "cell_type": "code",
   "execution_count": 2,
   "metadata": {},
   "outputs": [
    {
     "name": "stdout",
     "output_type": "stream",
     "text": [
      "how old are you75\n",
      "your ticket is $15\n"
     ]
    }
   ],
   "source": [
    "#Question(3)\n",
    "\n",
    "\n",
    "for i in range(3):\n",
    "    age = int(input(\"how old are you\"))\n",
    "    if age <=3:\n",
    "        print(\"your ticket is free\")\n",
    "        break\n",
    "    if age >3 and age <=12:\n",
    "        print(\"your ticket is $10\")\n",
    "        break\n",
    "    if age > 12:\n",
    "        print(\"your ticket is $15\")\n",
    "        break"
   ]
  },
  {
   "cell_type": "code",
   "execution_count": 3,
   "metadata": {},
   "outputs": [
    {
     "name": "stdout",
     "output_type": "stream",
     "text": [
      "karachi {'country': 'Pakistan', 'Population': '11 Million', 'fact': 'centre of all civilazations'}\n",
      "lahore {'country': 'Pakistan', 'Population': '6 million', 'fact': 'it has badshahi mosque'}\n",
      "sialkot {'country': 'Pakistan', 'Population': '1 million', 'fact': 'its sport goods are famous world wide'}\n"
     ]
    }
   ],
   "source": [
    "#Question (2)\n",
    "\n",
    "city = {\"karachi\":{\"country\":\"Pakistan\",\"Population\":\"11 Million\",\"fact\":\"centre of all civilazations\"},\n",
    "        \"lahore\":{\"country\":\"Pakistan\",\"Population\":\"6 million\",'fact':\"it has badshahi mosque\"},\n",
    "       \"sialkot\":{\"country\":\"Pakistan\",\"Population\":\"1 million\",\"fact\":\"its sport goods are famous world wide\"}}\n",
    "for a,v in city.items():\n",
    "    print(a,v)"
   ]
  },
  {
   "cell_type": "code",
   "execution_count": 6,
   "metadata": {},
   "outputs": [
    {
     "name": "stdout",
     "output_type": "stream",
     "text": [
      "================HINT================\n",
      "enter your guess: 10\n",
      "your guess is wrong\n",
      "enter your guess: 30\n",
      "your guess is right\n"
     ]
    }
   ],
   "source": [
    "#Question (5)\n",
    "\n",
    "import random\n",
    "m=random.randint(1,30) \n",
    "\n",
    "\n",
    "print(\"================HINT================\")\n",
    "if m>= 1 and m < 10:\n",
    "    print(\"try a number B/W 1 & 10\")\n",
    "elif m >= 10 and m < 20:\n",
    "    print(\"try a number B/W 10 & 20\")\n",
    "elif m >= 20 and m < 30:\n",
    "    print(\"try a number B/W 20 & 30\")\n",
    "for i in range(0,3):\n",
    "    user = int(input(\"enter your guess: \"))\n",
    "    if user < 1 or user > 30:\n",
    "        print(\"choose a number B/W 1 & 30\")\n",
    "    else:\n",
    "        if user == m:\n",
    "            print(\"your guess is right\")\n",
    "            break\n",
    "        else:\n",
    "            print(\"your guess is wrong\")"
   ]
  },
  {
   "cell_type": "code",
   "execution_count": 7,
   "metadata": {},
   "outputs": [
    {
     "name": "stdout",
     "output_type": "stream",
     "text": [
      "{'first_name': 'Muhammad ', 'last_name': 'Mubeen', 'age': 19, 'city': 'Karachi'}\n",
      "{'first_name': 'Muhammad ', 'last_name': 'Mubeen', 'age': 19, 'city': 'Karachi', 'Qualification': 'BsCs'}\n",
      "{'first_name': 'Muhammad ', 'last_name': 'Mubeen', 'age': 19, 'city': 'Karachi'}\n"
     ]
    }
   ],
   "source": [
    "#Question (1)\n",
    "\n",
    "data = {\"first_name\":\"Muhammad \",\"last_name\":\"Mubeen\",\"age\":19,\"city\":\"Karachi\"}\n",
    "print(data)\n",
    "data[\"Qualification\"] = \"BsCs\"\n",
    "print(data)\n",
    "del data[\"Qualification\"]\n",
    "print(data)"
   ]
  },
  {
   "cell_type": "code",
   "execution_count": null,
   "metadata": {},
   "outputs": [],
   "source": []
  }
 ],
 "metadata": {
  "kernelspec": {
   "display_name": "Python 3",
   "language": "python",
   "name": "python3"
  },
  "language_info": {
   "codemirror_mode": {
    "name": "ipython",
    "version": 3
   },
   "file_extension": ".py",
   "mimetype": "text/x-python",
   "name": "python",
   "nbconvert_exporter": "python",
   "pygments_lexer": "ipython3",
   "version": "3.7.4"
  }
 },
 "nbformat": 4,
 "nbformat_minor": 2
}
